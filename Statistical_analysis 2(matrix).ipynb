{
  "nbformat": 4,
  "nbformat_minor": 0,
  "metadata": {
    "colab": {
      "provenance": []
    },
    "kernelspec": {
      "name": "python3",
      "display_name": "Python 3"
    },
    "language_info": {
      "name": "python"
    }
  },
  "cells": [
    {
      "cell_type": "code",
      "execution_count": 2,
      "metadata": {
        "colab": {
          "base_uri": "https://localhost:8080/"
        },
        "id": "hoEuVOWnSs6D",
        "outputId": "8d520b0e-36d3-4bf2-968a-532b55ed805e"
      },
      "outputs": [
        {
          "output_type": "stream",
          "name": "stdout",
          "text": [
            "Matrix A:\n",
            "[[2 1]\n",
            " [1 3]]\n",
            "\n",
            "Matrix A^4:\n",
            "[[ 50  75]\n",
            " [ 75 125]]\n"
          ]
        }
      ],
      "source": [
        "import numpy as np\n",
        "\n",
        "def matrix_exponentiation(matrix, power):\n",
        "    \"\"\"\n",
        "    Computes the exponentiation of a square matrix using numpy.\n",
        "\n",
        "    Parameters:\n",
        "        matrix (ndarray): A square numpy array.\n",
        "        power (int): The power to which the matrix is to be raised.\n",
        "\n",
        "    Returns:\n",
        "        ndarray: The result of matrix raised to the given power.\n",
        "    \"\"\"\n",
        "    if not isinstance(matrix, np.ndarray):\n",
        "        raise ValueError(\"Input must be a NumPy array.\")\n",
        "    if matrix.shape[0] != matrix.shape[1]:\n",
        "        raise ValueError(\"Matrix must be square.\")\n",
        "    if not isinstance(power, int):\n",
        "        raise ValueError(\"Power must be an integer.\")\n",
        "\n",
        "    return np.linalg.matrix_power(matrix, power)\n",
        "\n",
        "\n",
        "A = np.array([[2, 1],\n",
        "              [1, 3]])\n",
        "\n",
        "n = 4\n",
        "result = matrix_exponentiation(A, n)\n",
        "\n",
        "print(\"Matrix A:\")\n",
        "print(A)\n",
        "print(f\"\\nMatrix A^{n}:\")\n",
        "print(result)\n"
      ]
    }
  ]
}